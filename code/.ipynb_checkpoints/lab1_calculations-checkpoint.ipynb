{
 "cells": [
  {
   "cell_type": "code",
   "execution_count": 1,
   "metadata": {},
   "outputs": [],
   "source": [
    "import numpy as np"
   ]
  },
  {
   "cell_type": "markdown",
   "metadata": {},
   "source": [
    "Section 2"
   ]
  },
  {
   "cell_type": "markdown",
   "metadata": {},
   "source": [
    "Fraction of photons that are collected"
   ]
  },
  {
   "cell_type": "code",
   "execution_count": 2,
   "metadata": {},
   "outputs": [],
   "source": [
    "lens_radius = 15 / 100 # meter\n",
    "scattering_radius = 2 # meter"
   ]
  },
  {
   "cell_type": "code",
   "execution_count": 3,
   "metadata": {},
   "outputs": [
    {
     "data": {
      "text/plain": [
       "50.26548245743669"
      ]
     },
     "execution_count": 3,
     "metadata": {},
     "output_type": "execute_result"
    }
   ],
   "source": [
    "scattering_area = 4 * np.pi * scattering_radius**2\n",
    "scattering_area"
   ]
  },
  {
   "cell_type": "code",
   "execution_count": 5,
   "metadata": {},
   "outputs": [
    {
     "data": {
      "text/plain": [
       "0.07068583470577035"
      ]
     },
     "execution_count": 5,
     "metadata": {},
     "output_type": "execute_result"
    }
   ],
   "source": [
    "lens_area = np.pi * lens_radius**2\n",
    "lens_area"
   ]
  },
  {
   "cell_type": "code",
   "execution_count": 6,
   "metadata": {},
   "outputs": [
    {
     "data": {
      "text/plain": [
       "0.00140625"
      ]
     },
     "execution_count": 6,
     "metadata": {},
     "output_type": "execute_result"
    }
   ],
   "source": [
    "collected_photons_fraction = lens_area / scattering_area\n",
    "collected_photons_fraction"
   ]
  },
  {
   "cell_type": "markdown",
   "metadata": {},
   "source": [
    "Photons collected by the lens"
   ]
  },
  {
   "cell_type": "code",
   "execution_count": 14,
   "metadata": {},
   "outputs": [],
   "source": [
    "planck_constant = 6.626e-34 # J*s\n",
    "speed_of_light = 3e8 # meter / s\n",
    "laser_wavelength = 694.3e-9 # meter\n",
    "laser_energy_per_pulse = 10 # J"
   ]
  },
  {
   "cell_type": "code",
   "execution_count": 20,
   "metadata": {},
   "outputs": [
    {
     "name": "stdout",
     "output_type": "stream",
     "text": [
      "The energy per photon is: 2.8630275097220224e-19\n"
     ]
    }
   ],
   "source": [
    "energy_per_photon = planck_constant * speed_of_light / laser_wavelength\n",
    "print (\"The energy per photon is: {}\".format(energy_per_photon))#"
   ]
  },
  {
   "cell_type": "markdown",
   "metadata": {},
   "source": [
    "Now that we have the energy per photon, we can get the total number of photons"
   ]
  },
  {
   "cell_type": "code",
   "execution_count": 21,
   "metadata": {},
   "outputs": [
    {
     "name": "stdout",
     "output_type": "stream",
     "text": [
      "The total number of photons is: 3.492806117315625e+19\n"
     ]
    }
   ],
   "source": [
    "total_number_of_photons = laser_energy_per_pulse / energy_per_photon\n",
    "print (\"The total number of photons is: {}\".format(total_number_of_photons))"
   ]
  },
  {
   "cell_type": "markdown",
   "metadata": {},
   "source": [
    "Those are the photons that go through the plasma volume. Now, we have to find out how may interact with the plasma volume using the TS cross section, the plasma density, and the length of the plasma volume, and the photons that go through the plasma volume."
   ]
  },
  {
   "cell_type": "code",
   "execution_count": 7,
   "metadata": {},
   "outputs": [],
   "source": [
    "TS_cross_section = 6.65e-29 # meter^2\n",
    "plasma_density = 5e19 # meter^-3\n",
    "length = 0.01 # meter"
   ]
  },
  {
   "cell_type": "code",
   "execution_count": 23,
   "metadata": {},
   "outputs": [
    {
     "name": "stdout",
     "output_type": "stream",
     "text": [
      "The amount of photons scatted are: 1161358034.0074453\n"
     ]
    }
   ],
   "source": [
    "photons_scattered = TS_cross_section * plasma_density * length * total_number_of_photons\n",
    "print (\"The amount of photons scatted are: {}\".format(photons_scattered))"
   ]
  },
  {
   "cell_type": "code",
   "execution_count": 25,
   "metadata": {},
   "outputs": [
    {
     "name": "stdout",
     "output_type": "stream",
     "text": [
      "The number of photons collected by the lens is: 1633159.73532297\n"
     ]
    }
   ],
   "source": [
    "photons_collected = collected_photons_fraction * photons_scattered\n",
    "print (\"The number of photons collected by the lens is: {}\".format(photons_collected))"
   ]
  },
  {
   "cell_type": "code",
   "execution_count": null,
   "metadata": {},
   "outputs": [],
   "source": []
  }
 ],
 "metadata": {
  "kernelspec": {
   "display_name": "Python 3",
   "language": "python",
   "name": "python3"
  },
  "language_info": {
   "codemirror_mode": {
    "name": "ipython",
    "version": 3
   },
   "file_extension": ".py",
   "mimetype": "text/x-python",
   "name": "python",
   "nbconvert_exporter": "python",
   "pygments_lexer": "ipython3",
   "version": "3.8.10"
  }
 },
 "nbformat": 4,
 "nbformat_minor": 4
}
