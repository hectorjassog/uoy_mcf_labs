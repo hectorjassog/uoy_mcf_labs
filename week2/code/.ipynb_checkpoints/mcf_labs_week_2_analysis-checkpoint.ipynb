{
 "cells": [
  {
   "cell_type": "code",
   "execution_count": 4,
   "metadata": {},
   "outputs": [],
   "source": [
    "import scipy.io\n",
    "import numpy as np\n",
    "from matplotlib import pyplot as plt\n",
    "import os\n",
    "from os import listdir\n",
    "from os.path import isfile, join"
   ]
  },
  {
   "cell_type": "code",
   "execution_count": 11,
   "metadata": {},
   "outputs": [
    {
     "data": {
      "text/plain": [
       "['defaultjet_nbi_23.mat',\n",
       " 'defaultjet_nbi_8.mat',\n",
       " 'defaultjet_nbi_0.mat',\n",
       " 'defaultjet_nbi_15.mat',\n",
       " 'defaultjet_nbi_40.mat',\n",
       " 'defaultjet_nbi_30.mat']"
      ]
     },
     "execution_count": 11,
     "metadata": {},
     "output_type": "execute_result"
    }
   ],
   "source": [
    "data_path = os.path.dirname(os.path.abspath(\"__file__\")) + \"/../data\"\n",
    "data_files = [f for f in os.listdir(data_path) if os.path.isfile(os.path.join(data_path, f))]\n",
    "data_files.remove('defaultjet.mat') # This is the sames as the nbi 15 file\n",
    "data_files"
   ]
  },
  {
   "cell_type": "code",
   "execution_count": 13,
   "metadata": {},
   "outputs": [
    {
     "name": "stdout",
     "output_type": "stream",
     "text": [
      "subsections (I'm using zerod by default):\n",
      "[('zerod', 'O'), ('z0dinput', 'O'), ('profil0d', 'O'), ('simout', 'O'), ('z0dstruct_inter', 'O'), ('info_test_metis', 'O')]\n",
      "indexes in subsection zerod:\n",
      "[('dw', 'O'), ('dpfus', 'O'), ('dini', 'O'), ('diboot', 'O'), ('nwm', 'O'), ('xpoint', 'O'), ('sp', 'O'), ('vp', 'O'), ('sext', 'O'), ('peri', 'O'), ('meff', 'O'), ('pfus', 'O'), ('ifus', 'O'), ('xfus', 'O'), ('jxfus', 'O'), ('j0fus', 'O'), ('salpha', 'O'), ('RR', 'O'), ('pohm', 'O'), ('iohm', 'O'), ('vloop', 'O'), ('pbrem', 'O'), ('prad', 'O'), ('pradsol', 'O'), ('pcyclo', 'O'), ('zeff', 'O'), ('zeffsc', 'O'), ('ip', 'O'), ('ifwcd', 'O'), ('ieccd', 'O'), ('inbicd', 'O'), ('iboot', 'O'), ('asser', 'O'), ('ane', 'O'), ('nem', 'O'), ('nim', 'O'), ('nebord', 'O'), ('nDm', 'O'), ('n1m', 'O'), ('nhem', 'O'), ('nbar', 'O'), ('qa', 'O'), ('q95', 'O'), ('qmin', 'O'), ('q0', 'O'), ('ate', 'O'), ('tem', 'O'), ('te0', 'O'), ('tebord', 'O'), ('tite', 'O'), ('betap', 'O'), ('betaptot', 'O'), ('piqj', 'O'), ('w', 'O'), ('wth', 'O'), ('hitb', 'O'), ('aitb', 'O'), ('hmhd', 'O'), ('ecrit_nbi', 'O'), ('ecrit_he', 'O'), ('li', 'O'), ('tauip', 'O'), ('xnbi', 'O'), ('xeccd', 'O'), ('wrad', 'O'), ('d0', 'O'), ('frnbi', 'O'), ('firstorb_nbi', 'O'), ('frloss_icrh', 'O'), ('fwcorr', 'O'), ('modeh', 'O'), ('zmszl', 'O'), ('plhrip', 'O'), ('n0a', 'O'), ('rres', 'O'), ('xres', 'O'), ('rm', 'O'), ('drmdt', 'O'), ('efficiency', 'O'), ('fracmino', 'O'), ('ppedmax', 'O'), ('pioniz', 'O'), ('irun', 'O'), ('difcurconv', 'O'), ('disrup', 'O'), ('harm', 'O'), ('nmino', 'O'), ('einj_nbi_icrh', 'O'), ('pnbi_icrh', 'O'), ('ialign', 'O'), ('frac_pellet', 'O'), ('indice_inv', 'O'), ('sn0fr', 'O'), ('wrot', 'O'), ('nimpm', 'O'), ('ane_actual', 'O'), ('dsol', 'O'), ('eddy_current', 'O'), ('flux_edge_cor', 'O'), ('picrh', 'O'), ('plh', 'O'), ('pnbi', 'O'), ('pecrh', 'O'), ('nbar_nat', 'O'), ('einj_icrh', 'O'), ('priptherm', 'O'), ('einj_lh', 'O'), ('pin', 'O'), ('ploss', 'O'), ('dwdt', 'O'), ('dwthdt', 'O'), ('pfus_th', 'O'), ('picrh_th', 'O'), ('pel_icrh', 'O'), ('pion_icrh', 'O'), ('pnbi_th', 'O'), ('plh_th', 'O'), ('esup_fus', 'O'), ('esup_nbi', 'O'), ('esup_icrh', 'O'), ('esup_lh', 'O'), ('ecrit_icrh', 'O'), ('taus_icrh', 'O'), ('pth', 'O'), ('pion_nbi', 'O'), ('pel_nbi', 'O'), ('pion_fus', 'O'), ('pel_fus', 'O'), ('pion', 'O'), ('pel', 'O'), ('dwmagtordt', 'O'), ('wmagtor', 'O'), ('wrlw', 'O'), ('plossl2h', 'O'), ('tauthl', 'O'), ('tauh', 'O'), ('tauhe_l', 'O'), ('tauhe_h', 'O'), ('plhthr', 'O'), ('taue', 'O'), ('tauhe', 'O'), ('betan', 'O'), ('pped', 'O'), ('pw', 'O'), ('nsat', 'O'), ('ape', 'O'), ('ne0', 'O'), ('negr', 'O'), ('nTm', 'O'), ('ni0', 'O'), ('pei', 'O'), ('tauee', 'O'), ('tauii', 'O'), ('tauei', 'O'), ('telim', 'O'), ('nelim', 'O'), ('plim', 'O'), ('peakdiv', 'O'), ('taup', 'O'), ('ilh', 'O'), ('taus_nbi', 'O'), ('etalh0', 'O'), ('etalh1', 'O'), ('etalh', 'O'), ('piqnbi', 'O'), ('mu0_nbi', 'O'), ('icd', 'O'), ('xlh', 'O'), ('dlh', 'O'), ('wdia', 'O'), ('wbp', 'O'), ('dwbpdt', 'O'), ('tauj', 'O'), ('xitb', 'O'), ('qeff', 'O'), ('vmes', 'O'), ('ipar', 'O'), ('phiplasma', 'O'), ('poynting', 'O'), ('ini', 'O'), ('taus_he', 'O'), ('pfus_nbi', 'O'), ('pfus_loss', 'O'), ('ndd', 'O'), ('ndd_th', 'O'), ('ndd_nbi_th', 'O'), ('ndd_nbi_nbi', 'O'), ('pddfus', 'O'), ('pttfus', 'O'), ('tibord', 'O'), ('nibord', 'O'), ('xped', 'O'), ('teped', 'O'), ('tiped', 'O'), ('neped', 'O'), ('niped', 'O'), ('edgeflux', 'O'), ('snbi', 'O'), ('slh', 'O'), ('taue_alt', 'O'), ('temps', 'O'), ('nb', 'O'), ('stf', 'O'), ('pelec', 'O')]\n",
      "(4480.927642657538, 89.37462802496194)\n"
     ]
    },
    {
     "data": {
      "image/png": "[encoded data removed]",
      "text/plain": [
       "<Figure size 432x288 with 1 Axes>"
      ]
     },
     "metadata": {
      "needs_background": "light"
     },
     "output_type": "display_data"
    }
   ],
   "source": [
    "full_dataset = scipy.io.loadmat(\"../data/defaultjet.mat\")\n",
    "\n",
    "\n",
    "def list_subsections():\n",
    "    print(\"subsections (I'm using zerod by default):\")\n",
    "    print(full_dataset['post'].dtype)\n",
    "\n",
    "\n",
    "def list_indexes(subsection='zerod'):\n",
    "    print(\"indexes in subsection \" + subsection + \":\")\n",
    "    print(full_dataset['post']['zerod'][0][0].dtype)\n",
    "\n",
    "\n",
    "def get_variable(index, subsection='zerod'):\n",
    "    a = full_dataset['post'][subsection][0][0][index][0][0]\n",
    "    a = [float(x[0]) for x in a]\n",
    "    return a\n",
    "\n",
    "def get_average(start, end, index, subsection='zerod'):\n",
    "    a = get_variable(index, subsection=subsection)\n",
    "    return (np.mean(a[start:end]), np.std(a[start:end]))\n",
    "\n",
    "\n",
    "list_subsections()\n",
    "list_indexes()\n",
    "print(get_average(50, 100, 'te0'))\n",
    "plt.plot(get_variable('te0'))\n",
    "plt.show()\n"
   ]
  },
  {
   "cell_type": "code",
   "execution_count": null,
   "metadata": {},
   "outputs": [],
   "source": []
  }
 ],
 "metadata": {
  "kernelspec": {
   "display_name": "Python 3",
   "language": "python",
   "name": "python3"
  },
  "language_info": {
   "codemirror_mode": {
    "name": "ipython",
    "version": 3
   },
   "file_extension": ".py",
   "mimetype": "text/x-python",
   "name": "python",
   "nbconvert_exporter": "python",
   "pygments_lexer": "ipython3",
   "version": "3.8.10"
  }
 },
 "nbformat": 4,
 "nbformat_minor": 4
}
